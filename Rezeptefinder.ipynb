{
 "cells": [
  {
   "cell_type": "code",
   "execution_count": 1,
   "metadata": {},
   "outputs": [],
   "source": [
    "from langchain.document_loaders import PyPDFDirectoryLoader\n",
    "from langchain.embeddings.openai import OpenAIEmbeddings\n",
    "from langchain.text_splitter import CharacterTextSplitter\n",
    "from langchain.vectorstores import Chroma\n",
    "from langchain.llms import OpenAIChat\n",
    "from langchain.prompts import PromptTemplate\n",
    "\n",
    "import chromadb\n",
    "import os\n",
    "\n",
    "DB_PATH = 'chromadb4'"
   ]
  },
  {
   "cell_type": "code",
   "execution_count": 2,
   "metadata": {},
   "outputs": [],
   "source": [
    "if os.path.exists(f'{DB_PATH}/'):\n",
    "    db = Chroma(persist_directory=DB_PATH, embedding_function=OpenAIEmbeddings())\n",
    "else:\n",
    "    raw_documents = PyPDFDirectoryLoader('assets/').load()\n",
    "    text_splitter = CharacterTextSplitter(chunk_size=200, chunk_overlap=0)\n",
    "    documents = text_splitter.split_documents(raw_documents)\n",
    "    db = Chroma.from_documents(documents, embedding_function = OpenAIEmbeddings(), persist_directory=DB_PATH)"
   ]
  },
  {
   "cell_type": "code",
   "execution_count": 13,
   "metadata": {},
   "outputs": [],
   "source": [
    "SEARCH_PROMPT = \"\"\"\n",
    "Im folgenden bekommst du mehrere Dokumente: <DOKUMENT1>, <DOKUMENT2> und <DOKUMENT3>.\n",
    "Der Nutzer ist auf der Suche nach einem Rezept, welches du in einem der drei Dokumente findest.\n",
    "Bestimme zunächst das passenste Rezept für die <REZEPTANFRAGE> des Nutzers.\n",
    "\n",
    "Gib dann das Rezept in komprimerter Form zurück.\n",
    "Dabei darfst du für drei Sätze in dem Grundrezept maximal zwei Sätze verwenden.\n",
    "Achte darauf, dass du Mengenangaben und Temperaturen innerhalb der Schritte angibst.\n",
    "\n",
    "Ausgabeformat:\n",
    "```\n",
    "<REZEPTNAME>\n",
    "\n",
    "Zutaten:\n",
    "- <ZUTAT1>\n",
    "- <ZUTAT2>\n",
    "- <ZUTAT3>\n",
    "\n",
    "Schritt 1: <SCHRITT1>\n",
    "Schritt 2: <SCHRITT2>\n",
    "Schritt 3: <SCHRITT3>\n",
    "...\n",
    "\n",
    "Quelle: <QUELLE>\n",
    "```\n",
    "\n",
    "<DOKUMENT1>: {DOKUMENT1}\n",
    "<QUELLE1>: {QUELLE1}\n",
    "<DOKUMENT2>: {DOKUMENT2}\n",
    "<QUELLE2>: {QUELLE2}\n",
    "<DOKUMENT3>: {DOKUMENT3}\n",
    "<QUELLE3>: {QUELLE3}\n",
    "<REZEPTANFRAGE>: {REZEPTANFRAGE}\n",
    "\n",
    "\"\"\""
   ]
  },
  {
   "cell_type": "code",
   "execution_count": 18,
   "metadata": {},
   "outputs": [],
   "source": [
    "query = \"Pizzateig\"\n",
    "docs = db.similarity_search(query)\n",
    "most_likely_document = docs[0].page_content"
   ]
  },
  {
   "cell_type": "code",
   "execution_count": 19,
   "metadata": {},
   "outputs": [],
   "source": [
    "p_template = PromptTemplate.from_template(SEARCH_PROMPT)"
   ]
  },
  {
   "cell_type": "code",
   "execution_count": 20,
   "metadata": {},
   "outputs": [
    {
     "name": "stderr",
     "output_type": "stream",
     "text": [
      "/Users/hilko/Documents/Git/langchain-talk2docs/venv/lib/python3.10/site-packages/langchain/llms/openai.py:786: UserWarning: You are trying to use a chat model. This way of initializing it is no longer supported. Instead, please use: `from langchain.chat_models import ChatOpenAI`\n",
      "  warnings.warn(\n"
     ]
    },
    {
     "name": "stdout",
     "output_type": "stream",
     "text": [
      "Grundrezept für Pizzateig\n",
      "\n",
      "Zutaten:\n",
      "- 1 kg Weizenmehl (Type 550 oder eine Mischung aus einem Drittel 1050 und zwei Dritteln 405)\n",
      "- 20 g Hefe (1/2 Würfel)\n",
      "- ca. 750 ml lauwarmes Wasser\n",
      "- 1 gehäufter TL Salz\n",
      "- 2-3 EL Olivenöl\n",
      "\n",
      "Schritt 1: Das Mehl in die Rührschüssel der Küchenmaschine füllen. Die Hefe zerbröckeln und in einer Tasse lauwarmen Wassers auflösen. Die Maschine einschalten und langsam die Flüssigkeit hinzufließen lassen. Danach so viel wie nötig vom restlichen Wasser hinzugeben, sodass ein weicher Teig entsteht.\n",
      "Schritt 2: Dann natürlich auch Salz und Öl zufügen. Am besten Olivenöl, das gibt nochmal mehr Geschmack. Die Maschine zuerst auf langsamer Stufe etwa fünf Minuten arbeiten lassen, bis sich der Teig glatt vom Schüsselrand löst. Danach aber noch mindestens weitere drei Minuten kneten lassen.\n",
      "Schritt 3: Nun mit bemehlten Händen aus der Rührschüssel heben und in eine mit Mehl ausgestäubte Schüssel geben. Am Ende eventuell nochmal mit ein wenig Mehl bestäuben und dann mit einem feuchten Tuch zugedeckt an einem warmen Ort zwei Stunden gehen lassen.\n",
      "\n",
      "Quelle: Rezepte.wdr.de © WDR 2023 Seite 4 von 10 (assets/pizza-vom-ofen-und-vom-grill-100.pdf)\n"
     ]
    }
   ],
   "source": [
    "chat = OpenAIChat(temperature=0)\n",
    "print(chat.predict(p_template.format(\n",
    "    DOKUMENT1 = docs[0].page_content,\n",
    "    QUELLE1 = docs[0].metadata['source'],\n",
    "    DOKUMENT2 = docs[1].page_content,\n",
    "    QUELLE2 = docs[1].metadata['source'],\n",
    "    DOKUMENT3 = docs[2].page_content,\n",
    "    QUELLE3 = docs[2].metadata['source'],\n",
    "    REZEPTANFRAGE = query)))"
   ]
  },
  {
   "cell_type": "code",
   "execution_count": null,
   "metadata": {},
   "outputs": [],
   "source": []
  }
 ],
 "metadata": {
  "kernelspec": {
   "display_name": "venv",
   "language": "python",
   "name": "python3"
  },
  "language_info": {
   "codemirror_mode": {
    "name": "ipython",
    "version": 3
   },
   "file_extension": ".py",
   "mimetype": "text/x-python",
   "name": "python",
   "nbconvert_exporter": "python",
   "pygments_lexer": "ipython3",
   "version": "3.10.12"
  },
  "orig_nbformat": 4
 },
 "nbformat": 4,
 "nbformat_minor": 2
}
