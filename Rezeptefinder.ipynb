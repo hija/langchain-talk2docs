{
 "cells": [
  {
   "cell_type": "code",
   "execution_count": 1,
   "metadata": {},
   "outputs": [],
   "source": [
    "from langchain.document_loaders import PyPDFDirectoryLoader\n",
    "from langchain.embeddings.openai import OpenAIEmbeddings\n",
    "from langchain.text_splitter import CharacterTextSplitter\n",
    "from langchain.vectorstores import Chroma\n",
    "from langchain.llms import OpenAIChat\n",
    "from langchain.prompts import PromptTemplate\n",
    "\n",
    "import chromadb"
   ]
  },
  {
   "cell_type": "code",
   "execution_count": 65,
   "metadata": {},
   "outputs": [],
   "source": [
    "\n",
    "raw_documents = PyPDFDirectoryLoader('assets/').load()\n",
    "text_splitter = CharacterTextSplitter(chunk_size=200, chunk_overlap=0)\n",
    "documents = text_splitter.split_documents(raw_documents)\n",
    "db = Chroma.from_documents(documents, OpenAIEmbeddings(), persist_directory='chromadb4')"
   ]
  },
  {
   "cell_type": "code",
   "execution_count": null,
   "metadata": {},
   "outputs": [],
   "source": [
    "db = chromadb.PersistentClient('./chromadb4')"
   ]
  },
  {
   "cell_type": "code",
   "execution_count": 80,
   "metadata": {},
   "outputs": [],
   "source": [
    "query = \"\"\n",
    "docs = db.similarity_search(query)\n",
    "most_likely_document = docs[0].page_content"
   ]
  },
  {
   "cell_type": "code",
   "execution_count": 81,
   "metadata": {},
   "outputs": [],
   "source": [
    "SEARCH_PROMPT = \"\"\"\n",
    "Im folgenden bekommst du mehrere Dokumente: <DOKUMENT1>, <DOKUMENT2> und <DOKUMENT3>.\n",
    "Der Nutzer ist auf der Suche nach einem Rezept, welches du in einem der drei Dokumente findest.\n",
    "Bestimme zunächst das passenste Rezept für die <REZEPTANFRAGE> des Nutzers.\n",
    "\n",
    "Gib dann das Rezept in komprimerter Form zurück.\n",
    "Dabei darfst du für drei Sätze in dem Grundrezept maximal zwei Sätze verwenden.\n",
    "Achte darauf, dass du Mengenangaben und Temperaturen innerhalb der Schritte angibst.\n",
    "\n",
    "Ausgabeformat:\n",
    "```\n",
    "<REZEPTNAME> (aus: <QUELLENNAME>)\n",
    "\n",
    "Zutaten:\n",
    "- <ZUTAT1>\n",
    "- <ZUTAT2>\n",
    "- <ZUTAT3>\n",
    "\n",
    "Schritt 1: <SCHRITT1>\n",
    "Schritt 2: <SCHRITT2>\n",
    "Schritt 3: <SCHRITT3>\n",
    "...\n",
    "```\n",
    "\n",
    "<DOKUMENT1>: {DOKUMENT1}\n",
    "<QUELLE1>: {QUELLE1}\n",
    "<DOKUMENT2>: {DOKUMENT2}\n",
    "<QUELLE2>: {QUELLE2}\n",
    "<DOKUMENT3>: {DOKUMENT3}\n",
    "<QUELLE3>: {QUELLE3}\n",
    "<REZEPTANFRAGE>: {REZEPTANFRAGE}\n",
    "\n",
    "\"\"\""
   ]
  },
  {
   "cell_type": "code",
   "execution_count": 82,
   "metadata": {},
   "outputs": [],
   "source": [
    "p_template = PromptTemplate.from_template(SEARCH_PROMPT)"
   ]
  },
  {
   "cell_type": "code",
   "execution_count": 83,
   "metadata": {},
   "outputs": [
    {
     "name": "stdout",
     "output_type": "stream",
     "text": [
      "Das passendste Rezept für die Anfrage nach Labskaus ist das Rezept \"Küche der Nordseeinseln – Spezialitäten aus dem Meer\" aus dem Dokument <DOKUMENT3>.\n",
      "\n",
      "Hier ist das Rezept in komprimierter Form:\n",
      "\n",
      "Tuffelschluffkes – Friesische Kartoffelpuffer\n",
      "\n",
      "Zutaten:\n",
      "- Kartoffeln\n",
      "- Zwiebeln\n",
      "- Eier\n",
      "\n",
      "Schritt 1: Kartoffeln und Zwiebeln reiben und mit Eiern vermengen.\n",
      "Schritt 2: Die Masse in einer Pfanne zu Kartoffelpuffern braten.\n",
      "Schritt 3: Mit Beilagen wie Matjes oder Rote Bete servieren.\n"
     ]
    }
   ],
   "source": [
    "chat = OpenAIChat(temperature=0)\n",
    "print(chat.predict(p_template.format(\n",
    "    DOKUMENT1 = docs[0].page_content,\n",
    "    DOKUMENT2 = docs[1].page_content,\n",
    "    DOKUMENT3 = docs[2].page_content,\n",
    "    REZEPTANFRAGE = query)))"
   ]
  },
  {
   "cell_type": "code",
   "execution_count": null,
   "metadata": {},
   "outputs": [],
   "source": []
  }
 ],
 "metadata": {
  "kernelspec": {
   "display_name": "venv",
   "language": "python",
   "name": "python3"
  },
  "language_info": {
   "codemirror_mode": {
    "name": "ipython",
    "version": 3
   },
   "file_extension": ".py",
   "mimetype": "text/x-python",
   "name": "python",
   "nbconvert_exporter": "python",
   "pygments_lexer": "ipython3",
   "version": "3.10.12"
  },
  "orig_nbformat": 4
 },
 "nbformat": 4,
 "nbformat_minor": 2
}
